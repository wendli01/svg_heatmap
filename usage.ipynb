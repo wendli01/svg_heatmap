{
 "cells": [
  {
   "cell_type": "markdown",
   "metadata": {},
   "source": [
    "# Usage"
   ]
  },
  {
   "cell_type": "markdown",
   "metadata": {},
   "source": [
    "`svg_heatmap` can be used as a drop-in replacement for `seaborn.heatmap`, with the exception of a few missing features:\n",
    "\n",
    "- center\n",
    "- annot\n",
    "    - fmt\n",
    "- linewidths, linecolor\n",
    "- square\n",
    "- mask\n",
    "\n",
    "<div class=\"alert alert-warning\">\n",
    "    Please note that this does <i>not</i> use any internal <tt>seaborn</tt> functions, neither use <tt>matplotlib.pyplot.pcolormesh</tt> for the color mesh. It <b>will</b> therefore look slightly different than a corresponding <tt>seaborn</tt> plot.\n",
    "</div>"
   ]
  },
  {
   "cell_type": "markdown",
   "metadata": {},
   "source": [
    "## Imports"
   ]
  },
  {
   "cell_type": "code",
   "execution_count": 1,
   "metadata": {
    "ExecuteTime": {
     "end_time": "2020-05-13T10:07:26.875520Z",
     "start_time": "2020-05-13T10:07:26.282272Z"
    }
   },
   "outputs": [],
   "source": [
    "import numpy as np; np.random.seed(0)\n",
    "import seaborn as sns; sns.set()\n",
    "from matplotlib import pyplot as plt\n",
    "from heatmap import svg_heatmap\n",
    "from ipywidgets import HTML\n",
    "import sys\n",
    "from io import BytesIO\n",
    "import binascii"
   ]
  },
  {
   "cell_type": "markdown",
   "metadata": {},
   "source": [
    "## Comparing plots"
   ]
  },
  {
   "cell_type": "code",
   "execution_count": 2,
   "metadata": {
    "ExecuteTime": {
     "end_time": "2020-05-13T10:07:26.887186Z",
     "start_time": "2020-05-13T10:07:26.877089Z"
    }
   },
   "outputs": [],
   "source": [
    "def compare_plots(data, **kwargs):\n",
    "    svg_plot = svg_heatmap(data, **kwargs)\n",
    "    \n",
    "    fig=plt.figure()\n",
    "    sns.heatmap(data, **kwargs)\n",
    "    plt.tight_layout()\n",
    "    with BytesIO() as buf:\n",
    "        fig.canvas.print_png(buf)\n",
    "        png_data = binascii.b2a_base64(buf.getvalue()).decode()\n",
    "        \n",
    "    png_html = '<img src=\"data:image/png;base64,{}\">'\n",
    "    sns_png_plot= png_html.format(png_data)\n",
    "    \n",
    "    with BytesIO() as buf:\n",
    "        plt.savefig(buf, format='svg')\n",
    "        sns_svg_plot = buf.getvalue().decode()\n",
    "        \n",
    "    plt.close()\n",
    "    \n",
    "    svg_size, sns_png_size, sns_svg_size = [str(round(sys.getsizeof(plot) / 1024, 1)) + 'kB' \n",
    "                                        for plot in (svg_plot, sns_png_plot, sns_svg_plot)]\n",
    "    output = ''\n",
    "    return HTML('svg {}<br>'.format(svg_size) + svg_plot +'<br>sns svg {}<br>'.format(sns_svg_size) + sns_svg_plot\n",
    "               +'<br>sns png {}<br>'.format(sns_png_size) + sns_png_plot)"
   ]
  },
  {
   "cell_type": "markdown",
   "metadata": {},
   "source": [
    "## `ndarray` data"
   ]
  },
  {
   "cell_type": "code",
   "execution_count": 3,
   "metadata": {
    "ExecuteTime": {
     "end_time": "2020-05-13T10:07:27.235807Z",
     "start_time": "2020-05-13T10:07:26.888596Z"
    }
   },
   "outputs": [
    {
     "data": {
      "application/vnd.jupyter.widget-view+json": {
       "model_id": "29a06bf6c99d4752861b3eeb8afa8168",
       "version_major": 2,
       "version_minor": 0
      },
      "text/plain": [
       "HTML(value='svg 13.5kB<br><svg width=\"400\" height=\"300\"><rect x=\"42.0\"y=\"0.0\"width=\"30.7\"height=\"22.0\"style=\"f…"
      ]
     },
     "metadata": {},
     "output_type": "display_data"
    }
   ],
   "source": [
    "compare_plots(np.random.rand(10, 12), cmap='viridis')"
   ]
  },
  {
   "cell_type": "markdown",
   "metadata": {},
   "source": [
    "## DataFrame data"
   ]
  },
  {
   "cell_type": "code",
   "execution_count": 4,
   "metadata": {
    "ExecuteTime": {
     "end_time": "2020-05-13T10:07:27.638907Z",
     "start_time": "2020-05-13T10:07:27.237620Z"
    }
   },
   "outputs": [
    {
     "data": {
      "application/vnd.jupyter.widget-view+json": {
       "model_id": "f4b5b89a91684b6aad884ad2a13014bc",
       "version_major": 2,
       "version_minor": 0
      },
      "text/plain": [
       "HTML(value='svg 16.7kB<br><svg width=\"400\" height=\"300\"><rect x=\"105.0\"y=\"0.0\"width=\"20.33\"height=\"20.0\"style=…"
      ]
     },
     "metadata": {},
     "output_type": "display_data"
    }
   ],
   "source": [
    "flights = sns.load_dataset(\"flights\")\n",
    "flights = flights.pivot(\"month\", \"year\", \"passengers\")\n",
    "compare_plots(flights, cmap='magma')"
   ]
  },
  {
   "cell_type": "markdown",
   "metadata": {},
   "source": [
    "## No cbar"
   ]
  },
  {
   "cell_type": "code",
   "execution_count": 5,
   "metadata": {
    "ExecuteTime": {
     "end_time": "2020-05-13T10:07:49.210287Z",
     "start_time": "2020-05-13T10:07:48.871382Z"
    }
   },
   "outputs": [
    {
     "data": {
      "application/vnd.jupyter.widget-view+json": {
       "model_id": "9846eefce3d74736a14de7c0082b71aa",
       "version_major": 2,
       "version_minor": 0
      },
      "text/plain": [
       "HTML(value='svg 12.1kB<br><svg width=\"400\" height=\"300\"><rect x=\"105.0\"y=\"0.0\"width=\"24.08\"height=\"20.0\"style=…"
      ]
     },
     "metadata": {},
     "output_type": "display_data"
    }
   ],
   "source": [
    "compare_plots(flights, cmap='magma', cbar=False)"
   ]
  }
 ],
 "metadata": {
  "anaconda-cloud": {},
  "kernelspec": {
   "display_name": "Python (data-explorer)",
   "language": "python",
   "name": "data-explorer"
  },
  "language_info": {
   "codemirror_mode": {
    "name": "ipython",
    "version": 3
   },
   "file_extension": ".py",
   "mimetype": "text/x-python",
   "name": "python",
   "nbconvert_exporter": "python",
   "pygments_lexer": "ipython3",
   "version": "3.7.6"
  },
  "toc": {
   "base_numbering": 1,
   "nav_menu": {},
   "number_sections": true,
   "sideBar": true,
   "skip_h1_title": false,
   "title_cell": "Table of Contents",
   "title_sidebar": "Contents",
   "toc_cell": false,
   "toc_position": {},
   "toc_section_display": true,
   "toc_window_display": false
  },
  "varInspector": {
   "cols": {
    "lenName": 16,
    "lenType": 16,
    "lenVar": 40
   },
   "kernels_config": {
    "python": {
     "delete_cmd_postfix": "",
     "delete_cmd_prefix": "del ",
     "library": "var_list.py",
     "varRefreshCmd": "print(var_dic_list())"
    },
    "r": {
     "delete_cmd_postfix": ") ",
     "delete_cmd_prefix": "rm(",
     "library": "var_list.r",
     "varRefreshCmd": "cat(var_dic_list()) "
    }
   },
   "types_to_exclude": [
    "module",
    "function",
    "builtin_function_or_method",
    "instance",
    "_Feature"
   ],
   "window_display": false
  }
 },
 "nbformat": 4,
 "nbformat_minor": 1
}
