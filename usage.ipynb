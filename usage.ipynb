{
 "cells": [
  {
   "cell_type": "markdown",
   "metadata": {},
   "source": [
    "# Usage"
   ]
  },
  {
   "cell_type": "markdown",
   "metadata": {},
   "source": [
    "`svg_heatmap` can be used as a drop-in replacement for `seaborn.heatmap`, with the exception of a few missing features:\n",
    "\n",
    "- center\n",
    "- annot\n",
    "    - fmt\n",
    "- linewidths, linecolor\n",
    "- square\n",
    "- mask\n",
    "\n",
    "<div class=\"alert alert-warning\">\n",
    "    Please note that this does <i>not</i> use any internal <tt>seaborn</tt> functions, neither use <tt>matplotlib.pyplot.pcolormesh</tt> for the color mesh. It <b>will</b> therefore look slightly different than a corresponding <tt>seaborn</tt> plot.\n",
    "</div>"
   ]
  },
  {
   "cell_type": "markdown",
   "metadata": {},
   "source": [
    "## Imports"
   ]
  },
  {
   "cell_type": "code",
   "execution_count": null,
   "metadata": {},
   "outputs": [],
   "source": [
    "import numpy as np; np.random.seed(0)\n",
    "import seaborn as sns; sns.set()\n",
    "from matplotlib import pyplot as plt\n",
    "from svg_heatmap import heatmap\n",
    "from ipywidgets import HTML\n",
    "import sys\n",
    "from io import BytesIO\n",
    "import binascii"
   ]
  },
  {
   "cell_type": "markdown",
   "metadata": {},
   "source": [
    "## Comparing plots"
   ]
  },
  {
   "cell_type": "markdown",
   "metadata": {},
   "source": [
    "### Helper Function"
   ]
  },
  {
   "cell_type": "code",
   "execution_count": null,
   "metadata": {},
   "outputs": [],
   "source": [
    "def compare_plots(data, svg_kwargs={}, sns_kwargs={}, **kwargs):\n",
    "    svg_plot = heatmap(data, **svg_kwargs ,**kwargs)\n",
    "    \n",
    "    fig=plt.figure()\n",
    "    sns.heatmap(data, **sns_kwargs, **kwargs)\n",
    "    plt.tight_layout()\n",
    "    with BytesIO() as buf:\n",
    "        fig.canvas.print_png(buf)\n",
    "        png_data = binascii.b2a_base64(buf.getvalue()).decode()\n",
    "        \n",
    "    png_html = '<img src=\"data:image/png;base64,{}\">'\n",
    "    sns_png_plot= png_html.format(png_data)\n",
    "    \n",
    "    with BytesIO() as buf:\n",
    "        plt.savefig(buf, format='svg')\n",
    "        sns_svg_plot = buf.getvalue().decode()\n",
    "        \n",
    "    plt.close()\n",
    "    \n",
    "    svg_size, sns_png_size, sns_svg_size = [str(round(sys.getsizeof(plot) / 1024, 1)) + 'kB' \n",
    "                                        for plot in (svg_plot, sns_png_plot, sns_svg_plot)]\n",
    "    return HTML('<h4>svg {}</h4>'.format(svg_size) + svg_plot +'<h4>sns svg {}<h4>'.format(sns_svg_size) + \n",
    "                '<h4>sns png {}<h4>'.format(sns_png_size) + sns_png_plot)"
   ]
  },
  {
   "cell_type": "markdown",
   "metadata": {},
   "source": [
    "### `ndarray` data"
   ]
  },
  {
   "cell_type": "code",
   "execution_count": null,
   "metadata": {},
   "outputs": [],
   "source": [
    "compare_plots(np.random.rand(10, 12), cmap='viridis')"
   ]
  },
  {
   "cell_type": "markdown",
   "metadata": {},
   "source": [
    "### DataFrame data"
   ]
  },
  {
   "cell_type": "code",
   "execution_count": null,
   "metadata": {},
   "outputs": [],
   "source": [
    "flights = sns.load_dataset(\"flights\")\n",
    "flights = flights.pivot(\"month\", \"year\", \"passengers\")\n",
    "compare_plots(flights, cmap='magma')"
   ]
  },
  {
   "cell_type": "markdown",
   "metadata": {},
   "source": [
    "### No cbar"
   ]
  },
  {
   "cell_type": "code",
   "execution_count": null,
   "metadata": {},
   "outputs": [],
   "source": [
    "compare_plots(flights, cmap='magma', cbar=False)"
   ]
  },
  {
   "cell_type": "markdown",
   "metadata": {},
   "source": [
    "### log scaling"
   ]
  },
  {
   "cell_type": "code",
   "execution_count": null,
   "metadata": {},
   "outputs": [],
   "source": [
    "data_w_outliers = np.random.rand(10, 12)\n",
    "data_w_outliers[2:3,3:6] += 5*data_w_outliers.max()"
   ]
  },
  {
   "cell_type": "code",
   "execution_count": null,
   "metadata": {},
   "outputs": [],
   "source": [
    "from matplotlib.colors import LogNorm\n",
    "compare_plots(data_w_outliers, cmap='magma', svg_kwargs=dict(log_scaling=True), \n",
    "              sns_kwargs=dict(norm=LogNorm(vmin=data_w_outliers.min(), vmax=data_w_outliers.max())))"
   ]
  },
  {
   "cell_type": "markdown",
   "metadata": {},
   "source": [
    "## SVG vs png cbar"
   ]
  },
  {
   "cell_type": "markdown",
   "metadata": {},
   "source": [
    "cbars are generated with pyplot and embedded in the root SVG. This can be done by either base64 encoding the png output or using the SVG output.\n",
    "\n",
    "However, the SVG output is significantly larger since it uses `<path>`s instead of `<text>`."
   ]
  },
  {
   "cell_type": "code",
   "execution_count": null,
   "metadata": {},
   "outputs": [],
   "source": [
    "svg_cbar_plot = heatmap(np.random.rand(10, 12), svg_cbar=True)\n",
    "png_cbar_plot = heatmap(np.random.rand(10, 12), svg_cbar=False)\n",
    "\n",
    "svg_cbar_size, png_cbar_size = [str(round(sys.getsizeof(plot) / 1024, 1)) + 'kB' \n",
    "                                for plot in (svg_cbar_plot, png_cbar_plot)]\n",
    "\n",
    "HTML('svg cbar {}<br>'.format(svg_cbar_size) + svg_cbar_plot +\n",
    "     '<br>png cbar {}<br>'.format(png_cbar_size) + png_cbar_plot)"
   ]
  }
 ],
 "metadata": {
  "anaconda-cloud": {},
  "kernelspec": {
   "display_name": "Python (data-explorer)",
   "language": "python",
   "name": "data-explorer"
  },
  "language_info": {
   "codemirror_mode": {
    "name": "ipython",
    "version": 3
   },
   "file_extension": ".py",
   "mimetype": "text/x-python",
   "name": "python",
   "nbconvert_exporter": "python",
   "pygments_lexer": "ipython3",
   "version": "3.7.6"
  },
  "toc": {
   "base_numbering": 1,
   "nav_menu": {},
   "number_sections": true,
   "sideBar": true,
   "skip_h1_title": false,
   "title_cell": "Table of Contents",
   "title_sidebar": "Contents",
   "toc_cell": false,
   "toc_position": {},
   "toc_section_display": true,
   "toc_window_display": false
  },
  "varInspector": {
   "cols": {
    "lenName": 16,
    "lenType": 16,
    "lenVar": 40
   },
   "kernels_config": {
    "python": {
     "delete_cmd_postfix": "",
     "delete_cmd_prefix": "del ",
     "library": "var_list.py",
     "varRefreshCmd": "print(var_dic_list())"
    },
    "r": {
     "delete_cmd_postfix": ") ",
     "delete_cmd_prefix": "rm(",
     "library": "var_list.r",
     "varRefreshCmd": "cat(var_dic_list()) "
    }
   },
   "types_to_exclude": [
    "module",
    "function",
    "builtin_function_or_method",
    "instance",
    "_Feature"
   ],
   "window_display": false
  }
 },
 "nbformat": 4,
 "nbformat_minor": 1
}
